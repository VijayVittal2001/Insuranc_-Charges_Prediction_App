{
  "nbformat": 4,
  "nbformat_minor": 0,
  "metadata": {
    "colab": {
      "provenance": []
    },
    "kernelspec": {
      "name": "python3",
      "display_name": "Python 3"
    },
    "language_info": {
      "name": "python"
    }
  },
  "cells": [
    {
      "cell_type": "code",
      "execution_count": null,
      "metadata": {
        "id": "77jttM43JHCN"
      },
      "outputs": [],
      "source": []
    },
    {
      "cell_type": "code",
      "source": [
        "import pandas as pd\n",
        "import numpy as np\n",
        "from xgboost import XGBRegressor\n",
        "from sklearn.preprocessing import LabelEncoder\n",
        "from sklearn.model_selection import train_test_split\n",
        "from sklearn.metrics import r2_score, mean_squared_error\n",
        "import gradio as gr\n",
        "\n",
        "# Load and prepare data\n",
        "df = pd.read_csv(\"insurance.csv\")\n",
        "\n",
        "# Label Encoding\n",
        "le_sex = LabelEncoder()\n",
        "le_smoker = LabelEncoder()\n",
        "le_region = LabelEncoder()\n",
        "\n",
        "df['sex'] = le_sex.fit_transform(df['sex'])\n",
        "df['smoker'] = le_smoker.fit_transform(df['smoker'])\n",
        "df['region'] = le_region.fit_transform(df['region'])\n",
        "\n",
        "# Features and target\n",
        "X = df.drop('charges', axis=1)\n",
        "y = df['charges']\n",
        "\n",
        "# Train-test split\n",
        "X_train, X_test, y_train, y_test = train_test_split(X, y, test_size=0.2, random_state=42)\n",
        "\n",
        "# Model training\n",
        "model = XGBRegressor(n_estimators=200, learning_rate=0.1, max_depth=4, random_state=42)\n",
        "model.fit(X_train, y_train)\n",
        "\n",
        "# Evaluate (optional)\n",
        "y_pred = model.predict(X_test)\n",
        "print(\"R² Score:\", round(r2_score(y_test, y_pred) * 100, 2))\n",
        "print(\"Mean Squared Error:\", round(mean_squared_error(y_test, y_pred), 2))\n",
        "\n",
        "# Gradio prediction function\n",
        "def predict(age, sex, bmi, children, smoker, region):\n",
        "    sex_encoded = le_sex.transform([sex])[0]\n",
        "    smoker_encoded = le_smoker.transform([smoker])[0]\n",
        "    region_encoded = le_region.transform([region])[0]\n",
        "\n",
        "    input_data = np.array([[int(age), sex_encoded, float(bmi), int(children), smoker_encoded, region_encoded]])\n",
        "    prediction = model.predict(input_data)[0]\n",
        "    return round(prediction, 2)\n",
        "\n",
        "# Gradio Interface\n",
        "iface = gr.Interface(\n",
        "    fn=predict,\n",
        "    inputs=[\n",
        "        gr.Dropdown(choices=[str(i) for i in range(18, 101)], label=\"Age\"),\n",
        "        gr.Dropdown(choices=[\"male\", \"female\"], label=\"Sex\"),\n",
        "        gr.Dropdown(choices=[str(round(i, 1)) for i in np.arange(10.0, 60.1, 0.1)], label=\"BMI\"),\n",
        "        gr.Dropdown(choices=[str(i) for i in range(0, 6)], label=\"Number of Children\"),\n",
        "        gr.Dropdown(choices=[\"yes\", \"no\"], label=\"Smoker\"),\n",
        "        gr.Dropdown(choices=[\"southwest\", \"southeast\", \"northwest\", \"northeast\"], label=\"Region\")\n",
        "    ],\n",
        "    outputs=\"number\",\n",
        "    title=\"Insurance Charges Prediction App\",\n",
        "    description=\"Select the details to estimate your insurance charges using an XGBoost regression model.\"\n",
        ")\n",
        "\n",
        "iface.launch()\n"
      ],
      "metadata": {
        "colab": {
          "base_uri": "https://localhost:8080/",
          "height": 680
        },
        "id": "ThugGBg6JH7_",
        "outputId": "b772fde2-1f5f-4a6f-fa37-e5dca0acd1f3"
      },
      "execution_count": 2,
      "outputs": [
        {
          "output_type": "stream",
          "name": "stdout",
          "text": [
            "R² Score: 87.5\n",
            "Mean Squared Error: 19401682.78\n",
            "It looks like you are running Gradio on a hosted a Jupyter notebook. For the Gradio app to work, sharing must be enabled. Automatically setting `share=True` (you can turn this off by setting `share=False` in `launch()` explicitly).\n",
            "\n",
            "Colab notebook detected. To show errors in colab notebook, set debug=True in launch()\n",
            "* Running on public URL: https://6ef3ab8c4347aae8ed.gradio.live\n",
            "\n",
            "This share link expires in 1 week. For free permanent hosting and GPU upgrades, run `gradio deploy` from the terminal in the working directory to deploy to Hugging Face Spaces (https://huggingface.co/spaces)\n"
          ]
        },
        {
          "output_type": "display_data",
          "data": {
            "text/plain": [
              "<IPython.core.display.HTML object>"
            ],
            "text/html": [
              "<div><iframe src=\"https://6ef3ab8c4347aae8ed.gradio.live\" width=\"100%\" height=\"500\" allow=\"autoplay; camera; microphone; clipboard-read; clipboard-write;\" frameborder=\"0\" allowfullscreen></iframe></div>"
            ]
          },
          "metadata": {}
        },
        {
          "output_type": "execute_result",
          "data": {
            "text/plain": []
          },
          "metadata": {},
          "execution_count": 2
        }
      ]
    },
    {
      "cell_type": "code",
      "source": [],
      "metadata": {
        "id": "Ae2rIiJ5JkLM"
      },
      "execution_count": null,
      "outputs": []
    }
  ]
}